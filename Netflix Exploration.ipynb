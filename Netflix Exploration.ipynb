{
 "cells": [
  {
   "cell_type": "markdown",
   "metadata": {},
   "source": [
    "# Netflix user behaviour"
   ]
  },
  {
   "cell_type": "markdown",
   "metadata": {},
   "source": [
    "### Requirements\n",
    "\n",
    "[Jupyter Notebook](https://jupyter.org/install)  \n",
    "[Apache Toree](https://toree.incubator.apache.org/)  \n",
    "[sampleDataNetflix.tsv](https://guicaro.com/sampleDataNetflix.tsv) placed in local filesystem and path updated in 1) below\n",
    "\n",
    "### Notes\n",
    "\n",
    "* I used a combination of Jupyter notebook and the Apache Toree project as it makes it easy and fast to explore a dataset. \n",
    "* I was part of the team that came up with [Apache Toree (aka The Spark Kernel)](https://twitter.com/guicaro/status/543541995247910917), and till now I think  it's still the only Jupyter kernel that ties to a Spark Session and is backed by Apache. It solved many issues for us back when we were developing applications in Spark.\n",
    "\n",
    "### Future\n",
    "\n",
    "* I was hoping to use [Voila](https://github.com/voila-dashboards/voila) project to create an interactive dashboard for data scientists where they could move a slider widget to change the parameters in my SQL queries, thus, change the time window to search. So, for example, say a data scientist would want to search for users only between 8 and 9 in the morning.\n",
    "* I wanted to randomly generate a bigger dataset using rules so that we could at least have more data to play with"
   ]
  },
  {
   "cell_type": "markdown",
   "metadata": {},
   "source": [
    "### 1. Let's read our data"
   ]
  },
  {
   "cell_type": "markdown",
   "metadata": {},
   "source": [
    "We will read in a TSV file and try to infer schema since it is not very complex data types we are using"
   ]
  },
  {
   "cell_type": "code",
   "execution_count": 104,
   "metadata": {
    "scrolled": true
   },
   "outputs": [
    {
     "data": {
      "text/plain": [
       "sessions = [user_id: int, navigation_page: string ... 5 more fields]\n"
      ]
     },
     "metadata": {},
     "output_type": "display_data"
    },
    {
     "data": {
      "text/plain": [
       "lastException: Throwable = null\n"
      ]
     },
     "metadata": {},
     "output_type": "display_data"
    },
    {
     "data": {
      "text/plain": [
       "[user_id: int, navigation_page: string ... 5 more fields]"
      ]
     },
     "execution_count": 104,
     "metadata": {},
     "output_type": "execute_result"
    }
   ],
   "source": [
    "val sessions = spark.read.option(\"header\", \"true\")\n",
    "                         .option(\"sep\", \"\\t\")\n",
    "                         .option(\"inferSchema\",\"true\")\n",
    "                         .csv(\"/Users/memo/Desktop/netflixSpark/sampleDataNetflix.tsv\")\n",
    "\n"
   ]
  },
  {
   "cell_type": "code",
   "execution_count": 11,
   "metadata": {},
   "outputs": [
    {
     "name": "stdout",
     "output_type": "stream",
     "text": [
      "root\n",
      " |-- user_id: integer (nullable = true)\n",
      " |-- navigation_page: string (nullable = true)\n",
      " |-- url: string (nullable = true)\n",
      " |-- session_id: integer (nullable = true)\n",
      " |-- date: integer (nullable = true)\n",
      " |-- hour: integer (nullable = true)\n",
      " |-- timestamp: integer (nullable = true)\n",
      "\n"
     ]
    }
   ],
   "source": [
    "sessions.printSchema"
   ]
  },
  {
   "cell_type": "code",
   "execution_count": 12,
   "metadata": {},
   "outputs": [
    {
     "name": "stdout",
     "output_type": "stream",
     "text": [
      "+-------+---------------+--------------------+----------+--------+----+----------+\n",
      "|user_id|navigation_page|                 url|session_id|    date|hour| timestamp|\n",
      "+-------+---------------+--------------------+----------+--------+----+----------+\n",
      "|   1001|       HomePage|https://www.netfl...|      6001|20181125|  11|1543145019|\n",
      "|   1001| OriginalsGenre|https://www.netfl...|      6001|20181125|  11|1543144483|\n",
      "+-------+---------------+--------------------+----------+--------+----+----------+\n",
      "only showing top 2 rows\n",
      "\n"
     ]
    }
   ],
   "source": [
    "sessions.show(2)"
   ]
  },
  {
   "cell_type": "markdown",
   "metadata": {},
   "source": [
    "### 2. Let's create a temp SQL table to use of the SQL magic in Apache Toree to get our information"
   ]
  },
  {
   "cell_type": "code",
   "execution_count": 13,
   "metadata": {},
   "outputs": [
    {
     "data": {
      "text/plain": [
       "warning: there was one deprecation warning; re-run with -deprecation for details\n"
      ]
     },
     "metadata": {},
     "output_type": "display_data"
    }
   ],
   "source": [
    "sessions.registerTempTable(\"SESSIONS\")"
   ]
  },
  {
   "cell_type": "markdown",
   "metadata": {},
   "source": [
    "### a) Find all users who have visited OurPlanetTitle Page."
   ]
  },
  {
   "cell_type": "markdown",
   "metadata": {},
   "source": [
    "Using DISTINCT to show unique users"
   ]
  },
  {
   "cell_type": "code",
   "execution_count": 16,
   "metadata": {},
   "outputs": [
    {
     "data": {
      "text/plain": [
       "+-------+\n",
       "|user_id|\n",
       "+-------+\n",
       "|   1001|\n",
       "|   2002|\n",
       "|   2002|\n",
       "|   4001|\n",
       "|   3003|\n",
       "+-------+\n",
       "\n"
      ]
     },
     "execution_count": 16,
     "metadata": {},
     "output_type": "execute_result"
    }
   ],
   "source": [
    "%%SQL select distinct user_id \n",
    "from SESSIONS \n",
    "where navigation_page = 'OurPlanetTitle' "
   ]
  },
  {
   "cell_type": "markdown",
   "metadata": {},
   "source": [
    "### b) Find all users who have visited OurPlanetTitle Page only once."
   ]
  },
  {
   "cell_type": "markdown",
   "metadata": {},
   "source": [
    "Showing the page visits just for validation, can be easily removed from the projection list in query"
   ]
  },
  {
   "cell_type": "code",
   "execution_count": 25,
   "metadata": {},
   "outputs": [
    {
     "data": {
      "text/plain": [
       "+-------+-----------+\n",
       "|user_id|page_visits|\n",
       "+-------+-----------+\n",
       "|   4001|          1|\n",
       "|   3003|          1|\n",
       "|   1001|          1|\n",
       "+-------+-----------+\n",
       "\n"
      ]
     },
     "execution_count": 25,
     "metadata": {},
     "output_type": "execute_result"
    }
   ],
   "source": [
    "%%SQL select user_id, count(user_id) as page_visits \n",
    "from SESSIONS \n",
    "where navigation_page = 'OurPlanetTitle' \n",
    "group by user_id\n",
    "having page_visits == 1"
   ]
  },
  {
   "cell_type": "markdown",
   "metadata": {},
   "source": [
    "### c) Find all users who have visited HomePage -> OriginalsGenre  -> OurPlanetTitle ->  HomePage"
   ]
  },
  {
   "cell_type": "markdown",
   "metadata": {},
   "source": [
    "Making sure we filter for the same path using the timestamps and making sure it's all within the same `session_id`"
   ]
  },
  {
   "cell_type": "code",
   "execution_count": 101,
   "metadata": {},
   "outputs": [
    {
     "data": {
      "text/plain": [
       "+-------+\n",
       "|user_id|\n",
       "+-------+\n",
       "|   2002|\n",
       "+-------+\n",
       "\n"
      ]
     },
     "execution_count": 101,
     "metadata": {},
     "output_type": "execute_result"
    }
   ],
   "source": [
    "%%SQL select distinct a.user_id\n",
    "from sessions a,\n",
    "sessions b,\n",
    "sessions c,\n",
    "sessions d\n",
    "where a.user_id = b.user_id\n",
    "and b.user_id = c.user_id\n",
    "and c.user_id = d.user_id\n",
    "and a.navigation_page = 'HomePage'\n",
    "and b.navigation_page = 'OriginalsGenre'\n",
    "and c.navigation_page = 'OurPlanetTitle'\n",
    "and d.navigation_page = 'HomePage'\n",
    "and a.timestamp < b.timestamp\n",
    "and b.timestamp < c.timestamp\n",
    "and c.timestamp < d.timestamp\n",
    "and a.session_id = b.session_id\n",
    "and b.session_id = c.session_id\n",
    "and c.session_id = d.session_id"
   ]
  },
  {
   "cell_type": "markdown",
   "metadata": {},
   "source": [
    "### d) Find all users who landed on LogIn Page from a Title Page"
   ]
  },
  {
   "cell_type": "markdown",
   "metadata": {},
   "source": [
    "The like operator is not the most performant but the SQL optimizer should be able to tell that my 2nd where clause can improve selectivity of this query. I am using the `timestamp` column to make sure that a before landing on a **Login** page, the user first comes from a **Title** page"
   ]
  },
  {
   "cell_type": "code",
   "execution_count": 98,
   "metadata": {},
   "outputs": [
    {
     "data": {
      "text/plain": [
       "+-------+\n",
       "|user_id|\n",
       "+-------+\n",
       "|   3003|\n",
       "+-------+\n",
       "\n"
      ]
     },
     "execution_count": 98,
     "metadata": {},
     "output_type": "execute_result"
    }
   ],
   "source": [
    "%%SQL select a.user_id\n",
    "from sessions a,\n",
    "sessions b\n",
    "where a.user_id = b.user_id\n",
    "and b.navigation_page = 'LogIn'\n",
    "and a.navigation_page like '%Title'\n",
    "and a.timestamp < b.timestamp"
   ]
  },
  {
   "cell_type": "markdown",
   "metadata": {},
   "source": [
    "### e) Find all users who have visited only OurPlanetTitle Page"
   ]
  },
  {
   "cell_type": "markdown",
   "metadata": {},
   "source": [
    "We are using relation 'b' to get the total count of `url` the user has visited"
   ]
  },
  {
   "cell_type": "code",
   "execution_count": 82,
   "metadata": {},
   "outputs": [
    {
     "data": {
      "text/plain": [
       "+-------+\n",
       "|user_id|\n",
       "+-------+\n",
       "|   4001|\n",
       "+-------+\n",
       "\n"
      ]
     },
     "execution_count": 82,
     "metadata": {},
     "output_type": "execute_result"
    }
   ],
   "source": [
    "%%SQL select a.user_id\n",
    "from sessions a,\n",
    "(select user_id, count(url) as totalUrl from sessions group by user_id) b\n",
    "where a.user_id = b.user_id\n",
    "and a.navigation_page = 'OurPlanetTitle'\n",
    "and b.totalurl = 1"
   ]
  }
 ],
 "metadata": {
  "kernelspec": {
   "display_name": "Apache Toree - Scala",
   "language": "scala",
   "name": "apache_toree_scala"
  },
  "language_info": {
   "codemirror_mode": "text/x-scala",
   "file_extension": ".scala",
   "mimetype": "text/x-scala",
   "name": "scala",
   "pygments_lexer": "scala",
   "version": "2.11.12"
  }
 },
 "nbformat": 4,
 "nbformat_minor": 4
}
